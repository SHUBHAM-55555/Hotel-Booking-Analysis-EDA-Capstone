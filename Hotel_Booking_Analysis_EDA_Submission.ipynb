{
  "nbformat": 4,
  "nbformat_minor": 0,
  "metadata": {
    "colab": {
      "private_outputs": true,
      "provenance": [],
      "collapsed_sections": [
        "w6K7xa23Elo4",
        "mDgbUHAGgjLW",
        "rFu4xreNphqO",
        "gIfDvo9L0UH2"
      ],
      "include_colab_link": true
    },
    "kernelspec": {
      "name": "python3",
      "display_name": "Python 3"
    },
    "language_info": {
      "name": "python"
    }
  },
  "cells": [
    {
      "cell_type": "markdown",
      "metadata": {
        "id": "view-in-github",
        "colab_type": "text"
      },
      "source": [
        "<a href=\"https://colab.research.google.com/github/SHUBHAM-55555/Hotel-Booking-Analysis-EDA-Capstone/blob/main/Hotel_Booking_Analysis_EDA_Submission.ipynb\" target=\"_parent\"><img src=\"https://colab.research.google.com/assets/colab-badge.svg\" alt=\"Open In Colab\"/></a>"
      ]
    },
    {
      "cell_type": "markdown",
      "source": [
        "# **Project Name**    - \n",
        "\n"
      ],
      "metadata": {
        "id": "vncDsAP0Gaoa"
      }
    },
    {
      "cell_type": "markdown",
      "source": [
        "##### **Project Type**    - EDA\n",
        "##### **Contribution**    - Individual\n"
      ],
      "metadata": {
        "id": "beRrZCGUAJYm"
      }
    },
    {
      "cell_type": "markdown",
      "source": [
        "# **Project Summary -**"
      ],
      "metadata": {
        "id": "FJNUwmbgGyua"
      }
    },
    {
      "cell_type": "markdown",
      "source": [
        "**I selected the topic which is Hotel Booking Analysis for my Capstone Project because i felt that it is the suitable project to work on for me, this is my first EDA Capstone project and very much excited to step in into the IT sector as i'm coming from non IT department.**\n",
        "\n",
        "**when i Started the Project in the first go i faced many problems like how to deal with the null values and what type of questions to be asked.\n",
        "The main reason behind to choose this project is i have some friends from hotel industry (hotliers) so i got to know the reasons behind the hotel cancellation and what are the insigths of the hotel industry, on what aspects the one can choose the particular hotel to stay and so on.**\n",
        "\n",
        "**While preparing this project i searched a lot about the hotel analysis and finally got the idea through differrent channes how to execute the project in sucessfull manner**\n"
      ],
      "metadata": {
        "id": "F6v_1wHtG2nS"
      }
    },
    {
      "cell_type": "markdown",
      "source": [
        "# **GitHub Link -**"
      ],
      "metadata": {
        "id": "w6K7xa23Elo4"
      }
    },
    {
      "cell_type": "markdown",
      "source": [
        "Provide your GitHub Link here."
      ],
      "metadata": {
        "id": "h1o69JH3Eqqn"
      }
    },
    {
      "cell_type": "markdown",
      "source": [
        "# **Problem Statement**\n"
      ],
      "metadata": {
        "id": "yQaldy8SH6Dl"
      }
    },
    {
      "cell_type": "markdown",
      "source": [
        "**Write Problem Statement Here.**"
      ],
      "metadata": {
        "id": "DpeJGUA3kjGy"
      }
    },
    {
      "cell_type": "markdown",
      "source": [
        "**Have you ever wondered when the best time of year to book a hotel room is..?? or the optimal length of stay in order to get the best daily rate..?? what if you wanted to predict whether or not a hotel was likely to recieve a disproportionately high number of sepcial requests? This Hotel booking dataset can help you explore those questions..!**\n",
        "\n",
        "\n",
        "**This data set contain booking information for a city hotel and a resort hotel, and includes information such as when the booking was made, length of stay, the number od adults, babies and the number of available parking spaces, among other things. All personally identifying information has been removed from the data.**"
      ],
      "metadata": {
        "id": "UfTbYd9lugXO"
      }
    },
    {
      "cell_type": "markdown",
      "source": [
        "#### **Define Your Business Objective?**"
      ],
      "metadata": {
        "id": "PH-0ReGfmX4f"
      }
    },
    {
      "cell_type": "markdown",
      "source": [
        "**The first and formost objective for every business is that to make it stable to survive in the market for long run, growth will be the secondary parameter, it will grow definetly with time and efforts but the important aspect of every business is revenue through their services that they are offering to servive for long run.\n",
        "To analyse the data and to figure out the insights to sucess factors is the main objective of every business**"
      ],
      "metadata": {
        "id": "Ml3Sw0kWdlMa"
      }
    },
    {
      "cell_type": "markdown",
      "source": [
        "Answer Here."
      ],
      "metadata": {
        "id": "PhDvGCAqmjP1"
      }
    },
    {
      "cell_type": "markdown",
      "source": [
        "# **General Guidelines** : -  "
      ],
      "metadata": {
        "id": "mDgbUHAGgjLW"
      }
    },
    {
      "cell_type": "markdown",
      "source": [
        "1.   Well-structured, formatted, and commented code is required. \n",
        "2.   Exception Handling, Production Grade Code & Deployment Ready Code will be a plus. Those students will be awarded some additional credits. \n",
        "     \n",
        "     The additional credits will have advantages over other students during Star Student selection.\n",
        "       \n",
        "             [ Note: - Deployment Ready Code is defined as, the whole .ipynb notebook should be executable in one go\n",
        "                       without a single error logged. ]\n",
        "\n",
        "3.   Each and every logic should have proper comments.\n",
        "4. You may add as many number of charts you want. Make Sure for each and every chart the following format should be answered.\n",
        "        \n",
        "\n",
        "```\n",
        "# Chart visualization code\n",
        "```\n",
        "            \n",
        "\n",
        "*   Why did you pick the specific chart?\n",
        "*   What is/are the insight(s) found from the chart?\n",
        "* Will the gained insights help creating a positive business impact? \n",
        "Are there any insights that lead to negative growth? Justify with specific reason.\n",
        "\n",
        "5. You have to create at least 20 logical & meaningful charts having important insights.\n",
        "\n",
        "\n",
        "[ Hints : - Do the Vizualization in  a structured way while following \"UBM\" Rule. \n",
        "\n",
        "U - Univariate Analysis,\n",
        "\n",
        "B - Bivariate Analysis (Numerical - Categorical, Numerical - Numerical, Categorical - Categorical)\n",
        "\n",
        "M - Multivariate Analysis\n",
        " ]\n",
        "\n",
        "\n",
        "\n"
      ],
      "metadata": {
        "id": "ZrxVaUj-hHfC"
      }
    },
    {
      "cell_type": "markdown",
      "source": [
        "# ***Let's Begin !***"
      ],
      "metadata": {
        "id": "O_i_v8NEhb9l"
      }
    },
    {
      "cell_type": "markdown",
      "source": [
        "## ***1. Know Your Data***"
      ],
      "metadata": {
        "id": "HhfV-JJviCcP"
      }
    },
    {
      "cell_type": "markdown",
      "source": [
        "### Import Libraries"
      ],
      "metadata": {
        "id": "Y3lxredqlCYt"
      }
    },
    {
      "cell_type": "code",
      "source": [
        "# Import Libraries\n",
        "import pandas as pd\n",
        "import numpy as np\n",
        "import seaborn as sns \n",
        "import matplotlib.pyplot as plt\n",
        "%matplotlib inline\n",
        "import datetime as datetime\n",
        "import datetime as dt\n",
        "import ast"
      ],
      "metadata": {
        "id": "M8Vqi-pPk-HR"
      },
      "execution_count": null,
      "outputs": []
    },
    {
      "cell_type": "markdown",
      "source": [
        "### Dataset Loading"
      ],
      "metadata": {
        "id": "3RnN4peoiCZX"
      }
    },
    {
      "cell_type": "code",
      "source": [
        "# Load Dataset\n",
        "df = pd.read_csv('/content/Hotel Bookings.csv')"
      ],
      "metadata": {
        "id": "4CkvbW_SlZ_R"
      },
      "execution_count": null,
      "outputs": []
    },
    {
      "cell_type": "markdown",
      "source": [
        "### Dataset First View"
      ],
      "metadata": {
        "id": "x71ZqKXriCWQ"
      }
    },
    {
      "cell_type": "code",
      "source": [
        "# Dataset First Look\n",
        "df.T"
      ],
      "metadata": {
        "id": "LWNFOSvLl09H"
      },
      "execution_count": null,
      "outputs": []
    },
    {
      "cell_type": "markdown",
      "source": [
        "### Dataset Rows & Columns count"
      ],
      "metadata": {
        "id": "7hBIi_osiCS2"
      }
    },
    {
      "cell_type": "code",
      "source": [
        "# Dataset Rows & Columns count\n",
        "df.shape"
      ],
      "metadata": {
        "id": "Kllu7SJgmLij"
      },
      "execution_count": null,
      "outputs": []
    },
    {
      "cell_type": "markdown",
      "source": [
        "### Dataset Information"
      ],
      "metadata": {
        "id": "JlHwYmJAmNHm"
      }
    },
    {
      "cell_type": "code",
      "source": [
        "# Dataset Info\n",
        "df.describe()"
      ],
      "metadata": {
        "id": "e9hRXRi6meOf"
      },
      "execution_count": null,
      "outputs": []
    },
    {
      "cell_type": "code",
      "source": [
        "df.info()"
      ],
      "metadata": {
        "id": "QJ6wrW38kduB"
      },
      "execution_count": null,
      "outputs": []
    },
    {
      "cell_type": "markdown",
      "source": [
        "#### Duplicate Values"
      ],
      "metadata": {
        "id": "35m5QtbWiB9F"
      }
    },
    {
      "cell_type": "code",
      "source": [
        "# Dataset Duplicate Value Count\n",
        "df.drop_duplicates(inplace = True)\n",
        "# now need to check the exact rows after removing duplicates and made this changes permenant by the use of inplace =True \n",
        "uni_num_of_rows = df.shape\n",
        "\n",
        "# after removing duplicate values from the dataframe which are not required\n",
        "uni_num_of_rows\n",
        "\n",
        "# total no. of rows and colums after removinf duplicates to work on (Exact Data)"
      ],
      "metadata": {
        "id": "1sLdpKYkmox0"
      },
      "execution_count": null,
      "outputs": []
    },
    {
      "cell_type": "code",
      "source": [
        "df.reset_index()"
      ],
      "metadata": {
        "id": "mWTGWDBRmyFf"
      },
      "execution_count": null,
      "outputs": []
    },
    {
      "cell_type": "markdown",
      "source": [
        "\n",
        "#### Missing Values/Null Values"
      ],
      "metadata": {
        "id": "PoPl-ycgm1ru"
      }
    },
    {
      "cell_type": "code",
      "source": [
        "# Missing Values/Null Values Count"
      ],
      "metadata": {
        "id": "GgHWkxvamxVg"
      },
      "execution_count": null,
      "outputs": []
    },
    {
      "cell_type": "code",
      "source": [
        "# we do need to check the missing or null values from each columns to get the exact no of missing values from each columns\n",
        "missing_values = df.isnull().sum().sort_values(ascending = False)"
      ],
      "metadata": {
        "id": "zHdQwSz-mQ3s"
      },
      "execution_count": null,
      "outputs": []
    },
    {
      "cell_type": "code",
      "source": [
        "# Visualizing the missing values\n",
        "# Exact null values from the dataframe in each columns after sorting the data from descending order to make the data more sorted way \n",
        "# max missing values found in the colums \"company\",\"agent\",\"country\"\n",
        "\n",
        "missing_values\n"
      ],
      "metadata": {
        "id": "3q5wnI3om9sJ"
      },
      "execution_count": null,
      "outputs": []
    },
    {
      "cell_type": "code",
      "source": [
        "# Checking the null values which is 0 now\n",
        "df.isnull().sum().sort_values(ascending = False)"
      ],
      "metadata": {
        "id": "DmBxiDVU2Qpm"
      },
      "execution_count": null,
      "outputs": []
    },
    {
      "cell_type": "markdown",
      "source": [
        "### What did you know about your dataset?"
      ],
      "metadata": {
        "id": "H0kj-8xxnORC"
      }
    },
    {
      "cell_type": "markdown",
      "source": [
        "Answer Here"
      ],
      "metadata": {
        "id": "gfoNAAC-nUe_"
      }
    },
    {
      "cell_type": "markdown",
      "source": [
        "**The provided Data consist of hotel booking information like there are two types of hotel one of them is Resort hotel and another one is City hotel and the accomodation information is included in that, along with the information like when the booking was made, for how long the stay was booked, no of people like children,aduld,babies and number of available parking spaces. before sorting the Data there were 119390 rows and 32 Columns and after removing the duplicates from the original data there are around 87396 rows  and 32 columns are left to work on and to give the valuable insights from the data**\n"
      ],
      "metadata": {
        "id": "OzxstDJx3Lwf"
      }
    },
    {
      "cell_type": "markdown",
      "source": [
        "## ***2. Understanding Your Variables***"
      ],
      "metadata": {
        "id": "nA9Y7ga8ng1Z"
      }
    },
    {
      "cell_type": "code",
      "source": [
        "# Dataset Columns\n",
        "df.columns"
      ],
      "metadata": {
        "id": "j7xfkqrt5Ag5"
      },
      "execution_count": null,
      "outputs": []
    },
    {
      "cell_type": "code",
      "source": [
        "# Dataset Describe\n",
        "df.describe()"
      ],
      "metadata": {
        "id": "DnOaZdaE5Q5t"
      },
      "execution_count": null,
      "outputs": []
    },
    {
      "cell_type": "code",
      "source": [
        "df.T"
      ],
      "metadata": {
        "id": "4hvwMBqM7110"
      },
      "execution_count": null,
      "outputs": []
    },
    {
      "cell_type": "markdown",
      "source": [
        "### Variables Description "
      ],
      "metadata": {
        "id": "PBTbrJXOngz2"
      }
    },
    {
      "cell_type": "markdown",
      "source": [
        "Answer Here"
      ],
      "metadata": {
        "id": "aJV4KIxSnxay"
      }
    },
    {
      "cell_type": "markdown",
      "source": [
        "1.**hotel** = Hotel type( resort hotel or city hotel)\n",
        "\n",
        "2.**is_canceled** = if the booking was cancelled if yes (1) or not (0)\n",
        "\n",
        "3.**lead_time** = Number of Days before the actual arrival of guests\n",
        "\n",
        "4.**arrival_date_year** = year of arrival\n",
        "\n",
        "5.**arrival_date_month** = month of arrival\n",
        "\n",
        "6.**arrival_date_week_number** = week number in which week guest arrived \n",
        "\n",
        "7.**arrival_date_day_of_month** = Day of arrival from month\n",
        "\n",
        "8.**stays_in_weekend_nights** =Number of Days spent on saturday and Sunday\n",
        "\n",
        "9.**stays_in_week_nights** = Number of days spent on weekdays \n",
        "\n",
        "10.**adults** =No. of Adults\n",
        "\n",
        "11.children  = No. of Children\n",
        "\n",
        "12.**babies** = No. of Babies\n",
        "\n",
        "13.**meal** = Type of Food ordered\n",
        "\n",
        "14.**country** =  Guests belongs to \n",
        "\n",
        "15.**market_segment** =  Designation of market segment\n",
        "\n",
        "16.**distribution_channel** = Name of Booking Distribution Channel\n",
        "\n",
        "17.**is_repeated_guest** = If the booking was from repeated Guest (1) or not (0)\n",
        "\n",
        "18.**previous_cancellations** = Number of previous bookings cancelled by the \n",
        "customer prior to the current booking\n",
        "\n",
        "19.**previous_bookings_not_canceled** = Number of previous bookings not \n",
        "cancelled by the customer prior to the current booking\n",
        "\n",
        "\n",
        "20.**reserved_room_type** = Code of room type reserved\n",
        "\n",
        "21.**assigned_room_type** = Code of room type assigned\n",
        "\n",
        "22.**booking_changes** = Changes in booking made by the customer\n",
        "\n",
        "23.**deposit_type** = Type of Deposit\n",
        "\n",
        "24.**agent** = ID of the travel agent who made the booking\n",
        "\n",
        "25.**company** = Company through the booking was made\n",
        "\n",
        "26.**days_in_waiting_list** = Number of days the booking was in the waiting list\n",
        "\n",
        "27.**customer_type** = Type of customer\n",
        "\n",
        "28.**adr** = Average Daily Rate\n",
        "\n",
        "29.**required_car_parking_spaces** = Number of Car parking required\n",
        "\n",
        "30.**total_of_special_requests** = Number of special request made by the \n",
        "customer\n",
        "\n",
        "31.**reservation_status** = Reservation Status(Canceled, Check-out, No-show\n",
        "\n",
        "32.**reservation_status_date** =Date on which the reservation status was updated"
      ],
      "metadata": {
        "id": "H3tsHptR7yYm"
      }
    },
    {
      "cell_type": "markdown",
      "source": [
        "### Check Unique Values for each variable."
      ],
      "metadata": {
        "id": "u3PMJOP6ngxN"
      }
    },
    {
      "cell_type": "code",
      "source": [
        "# Check Unique Values for each values\n",
        "\n",
        "# to get the unique values for each value i used the lambda function \n",
        "# which is an \"anonymous\" function to get the unique values in one go\n",
        "print(df.apply(lambda x: x.unique()))"
      ],
      "metadata": {
        "id": "zms12Yq5n-jE"
      },
      "execution_count": null,
      "outputs": []
    },
    {
      "cell_type": "markdown",
      "source": [
        "## 3. ***Data Wrangling***"
      ],
      "metadata": {
        "id": "dauF4eBmngu3"
      }
    },
    {
      "cell_type": "markdown",
      "source": [
        "### Data Wrangling Code"
      ],
      "metadata": {
        "id": "bKJF3rekwFvQ"
      }
    },
    {
      "cell_type": "code",
      "source": [
        "# Write your code to make your dataset analysis ready.\n",
        "df.isnull().sum().sort_values(ascending = False)"
      ],
      "metadata": {
        "id": "wk-9a2fpoLcV"
      },
      "execution_count": null,
      "outputs": []
    },
    {
      "cell_type": "code",
      "source": [
        "# Cleaning the data to make it more transperent from the point of analysis\n",
        "\n",
        "# column wise null percentage\n",
        "round(100*(df.isnull().sum()/len(df.index)),2)"
      ],
      "metadata": {
        "id": "hvPcOE1CTm11"
      },
      "execution_count": null,
      "outputs": []
    },
    {
      "cell_type": "code",
      "source": [
        "# columnn \"Company\" & \"Agent\" is having highest number of missing values and it doesn't make any sense to go with this much amount of missing data \n",
        "# dropping of column with highest missing values\n",
        "df = df.drop([\"company\",\"agent\"], axis = 1)"
      ],
      "metadata": {
        "id": "DPezO2gQVC91"
      },
      "execution_count": null,
      "outputs": []
    },
    {
      "cell_type": "code",
      "source": [
        "# \"country\" columns has the less percentage of missing values whose percentage is around 0.52 which is considerable \n",
        "# let's fill up the missing values with \"Others\" in the \"country\" column\n",
        "\n",
        "df[\"country\"].fillna(\"others\", inplace = True)"
      ],
      "metadata": {
        "id": "379-3Qi4Wi20"
      },
      "execution_count": null,
      "outputs": []
    },
    {
      "cell_type": "code",
      "source": [
        "# now let's check the DataFrame again after doing some changes in it like droping some columns and filling some missing values in the columns\n",
        "df.isnull().sum()"
      ],
      "metadata": {
        "id": "CIUG8XFBXF5u"
      },
      "execution_count": null,
      "outputs": []
    },
    {
      "cell_type": "code",
      "source": [
        "# still missing values showing in the columns \"children\"\n",
        "# lets change the value with \"0\"\n",
        "df[\"children\"].fillna(0, inplace = True)"
      ],
      "metadata": {
        "id": "VMcEEUE0Z_16"
      },
      "execution_count": null,
      "outputs": []
    },
    {
      "cell_type": "code",
      "source": [
        "# now as we can see there are no missing values in the DataFrame now \n",
        "df.isnull().sum()\n"
      ],
      "metadata": {
        "id": "c8jKYgn2aZKb"
      },
      "execution_count": null,
      "outputs": []
    },
    {
      "cell_type": "code",
      "source": [
        "df.info()"
      ],
      "metadata": {
        "id": "p-MgqlAPZmWK"
      },
      "execution_count": null,
      "outputs": []
    },
    {
      "cell_type": "code",
      "source": [
        "# as we can see that the columns \"children\" & \"adr\" containing the numeric value itself, its in the form of float \n",
        "# changing the values from float from int \n",
        "df[[\"children\",\"adr\"]] = df[[\"children\",\"adr\"]].astype('int64')\n"
      ],
      "metadata": {
        "id": "PN-2DsVjb9-W"
      },
      "execution_count": null,
      "outputs": []
    },
    {
      "cell_type": "code",
      "source": [
        "# now lets check again \n",
        "# as per our convinence we have changed the data type to \"int\" only\n",
        "df.info()"
      ],
      "metadata": {
        "id": "oNq_-MkKcyPu"
      },
      "execution_count": null,
      "outputs": []
    },
    {
      "cell_type": "code",
      "source": [
        "# as per the observation \"stays_in_weekend_nights\" & \"stays_in_week_nights\" both the columns representing the stay in night only \n",
        "# so we could merge the columns with the new columns\n",
        "df[\"Stay_in_night\"] = df[\"stays_in_weekend_nights\"] + df[\"stays_in_week_nights\"]"
      ],
      "metadata": {
        "id": "-hd1gzgGdtmS"
      },
      "execution_count": null,
      "outputs": []
    },
    {
      "cell_type": "code",
      "source": [
        "df[\"Stay_in_night\"]"
      ],
      "metadata": {
        "id": "6RTfoOnFgjV9"
      },
      "execution_count": null,
      "outputs": []
    },
    {
      "cell_type": "code",
      "source": [
        "# lets merge total guests that are coming like adults, babies and children\n",
        "df[\"Total_guests\"] = df[\"children\"] + df[\"adults\"] + df[\"babies\"]"
      ],
      "metadata": {
        "id": "NM8R-qmBh5rl"
      },
      "execution_count": null,
      "outputs": []
    },
    {
      "cell_type": "code",
      "source": [
        "df[\"Total_guests\"].sum()"
      ],
      "metadata": {
        "id": "XKvYFBPSiY8U"
      },
      "execution_count": null,
      "outputs": []
    },
    {
      "cell_type": "code",
      "source": [
        " #just for the sake of understanding we can change the values from following columns from \"int\" to \"String\" for the convinence\n",
        "\n",
        "df[\"is_canceled\"] = df[\"is_canceled\"].replace([0,1],['not cancelled','cancelled'])"
      ],
      "metadata": {
        "id": "RVsrCg25jMwR"
      },
      "execution_count": null,
      "outputs": []
    },
    {
      "cell_type": "code",
      "source": [
        "df[\"is_canceled\"]"
      ],
      "metadata": {
        "id": "D5Kg8-iBljCk"
      },
      "execution_count": null,
      "outputs": []
    },
    {
      "cell_type": "code",
      "source": [
        "# just for the sake of understanding we can change the values from following columns from \"int\" to \"String\" for the convinence\n",
        "\n",
        "df[\"is_repeated_guest\"] = df[\"is_repeated_guest\"].replace([0,1],[\"not repeated\",\"repeated\"])"
      ],
      "metadata": {
        "id": "ua0A50OblmVj"
      },
      "execution_count": null,
      "outputs": []
    },
    {
      "cell_type": "code",
      "source": [
        "df[\"is_repeated_guest\"]"
      ],
      "metadata": {
        "id": "_2_FuYUHl8Za"
      },
      "execution_count": null,
      "outputs": []
    },
    {
      "cell_type": "markdown",
      "source": [
        "for every hotel industry its very important to get to know about their revenue generation on that basis they can maintain their servises and can maintain their guests .\n",
        "The revenue we can figure it out from the total stay of guests in the hotel and the average daily rate.\n",
        "**Average daily rate** (ADR), **one of the three key hotel performance indicators** (along with occupancy and RevPAR), **is the measure of the average** **paid for rooms sold in a given time period**"
      ],
      "metadata": {
        "id": "DlgJ6QpFmXw5"
      }
    },
    {
      "cell_type": "code",
      "source": [
        "# lets figure it out the total revenue of hotel wise \n",
        "df[\"revenue\"] = df[\"Stay_in_night\"]*df[\"adr\"]"
      ],
      "metadata": {
        "id": "7DzhLESwmFOl"
      },
      "execution_count": null,
      "outputs": []
    },
    {
      "cell_type": "code",
      "source": [
        "df[\"revenue\"]"
      ],
      "metadata": {
        "id": "6X_d0xCAn9fX"
      },
      "execution_count": null,
      "outputs": []
    },
    {
      "cell_type": "code",
      "source": [
        "# Calculate the hotel wise distribution of revenue saperately by using groupby\n",
        "\n",
        "hotel_wise_revenue = df.groupby('hotel')['revenue'].sum()"
      ],
      "metadata": {
        "id": "hbtdO41QoKwg"
      },
      "execution_count": null,
      "outputs": []
    },
    {
      "cell_type": "code",
      "source": [
        "# got the revenue for each hotel \n",
        "hotel_wise_revenue\n"
      ],
      "metadata": {
        "id": "N1hjjrn_ojHB"
      },
      "execution_count": null,
      "outputs": []
    },
    {
      "cell_type": "markdown",
      "source": [
        "**we found that the revenue of City Hotel is more as compare to Resort Hotel**\n",
        "\n",
        "**city hotels revenue is greater than 17% approx as compare to Resort hotel**\n"
      ],
      "metadata": {
        "id": "0UOW7o69ptGY"
      }
    },
    {
      "cell_type": "code",
      "source": [
        "df[[\"hotel\",\"revenue\"]]"
      ],
      "metadata": {
        "id": "6sJXW1Q9E149"
      },
      "execution_count": null,
      "outputs": []
    },
    {
      "cell_type": "markdown",
      "source": [
        "### What all manipulations have you done and insights you found?"
      ],
      "metadata": {
        "id": "MSa1f5Uengrz"
      }
    },
    {
      "cell_type": "markdown",
      "source": [
        "Answer Here."
      ],
      "metadata": {
        "id": "LbyXE7I1olp8"
      }
    },
    {
      "cell_type": "markdown",
      "source": [
        "**Manipulation has been done to work on data for better redeability and visualisation** ❎\n",
        "**Checking of data** : In the first go when i checked the data throughly i got to know that their are many null values in few columns which can not be neglected while using the data for the forcasting \n",
        "\n",
        ":-columns such as \"company\" and \"agent\" columns was having maximun null values so i had to drop this columns.\n",
        "\n",
        ":- 2nd thing i found in this columns some columns having missing values but it was not very bad data to drop those columns as a data scientist its not a very good thing to loose the data untill and unless its very necessary, so i filled some columns with fillna(), such as \"country\" and \"children\".\n",
        "\n",
        "**Removing Duplicates**:-\n",
        "After sorting the  data their were many duplicate values in the data so i have removed those rows in first time total no of rows were around 119390 and 32 columns and after filtering the data it was 87396 rows and 32 columns.\n",
        "\n",
        "\n",
        "**Replaced the values in columns**:- \n",
        "1- **is_cancelled, is_not_cancelled & is_repeated_guest** = i observed that this columns containing the value 0,1 for the representation of cancelled and for not cancelled which i changed to \"cancelled\" and \" not cancelled\" for better redeability purpose.\n",
        "\n",
        "same thing i did with the column of is_repeated guests as well with the value of \"repeated\",\"not repeated\".\n",
        "\n",
        "**Compiling the columns**:- for some of the columns i made the compile variable like \"stays_in_weekend_nights\" and \"stays_in_week_nights which is \"stay_in_night\" because both of the variable representing the stay in night then weather its in weekdays or in weekend.\n",
        "\n",
        "same i did with the guest numbers :- i compiled the number of guests including adults, children and babies.\n",
        "\n",
        "This all the steps i have done in data cleaning and manipulation.\n",
        "\n"
      ],
      "metadata": {
        "id": "kuHw7vrYFfFP"
      }
    },
    {
      "cell_type": "markdown",
      "source": [
        "## ***4. Data Vizualization, Storytelling & Experimenting with charts : Understand the relationships between variables***"
      ],
      "metadata": {
        "id": "GF8Ens_Soomf"
      }
    },
    {
      "cell_type": "markdown",
      "source": [
        "#### Chart - 1"
      ],
      "metadata": {
        "id": "0wOQAZs5pc--"
      }
    },
    {
      "cell_type": "code",
      "source": [
        "# Chart - 1 visualization code\n",
        "plt.rcParams['figure.figsize'] = 8,8\n",
        "labels = df[\"hotel\"].value_counts().index.tolist()\n",
        "sizes = df[\"hotel\"].value_counts().tolist()\n",
        "explode = (0, 0.1)\n",
        "colors = ['blue','silver']\n",
        "plt.pie(sizes, explode = explode, labels = labels, colors = colors, autopct = '%1.1f%%', startangle=90, shadow =True, textprops ={ 'fontsize':14})\n",
        "plt.title(\"city hotel vs Resort hotel-Booking percentage\")\n",
        "plt.legend(labels,loc = 1, prop = {'size':10})\n",
        "plt.show()"
      ],
      "metadata": {
        "id": "7v_ESjsspbW7"
      },
      "execution_count": null,
      "outputs": []
    },
    {
      "cell_type": "markdown",
      "source": [
        "##### 1. Why did you pick the specific chart?"
      ],
      "metadata": {
        "id": "K5QZ13OEpz2H"
      }
    },
    {
      "cell_type": "markdown",
      "source": [
        "Answer Here."
      ],
      "metadata": {
        "id": "XESiWehPqBRc"
      }
    },
    {
      "cell_type": "markdown",
      "source": [
        "**In** **the Above pie chart representing the Booking percentage between** \"**city hotel**\" vs \"**resort hotel**\""
      ],
      "metadata": {
        "id": "witJndWSRdbv"
      }
    },
    {
      "cell_type": "markdown",
      "source": [
        "##### 2. What is/are the insight(s) found from the chart?"
      ],
      "metadata": {
        "id": "lQ7QKXXCp7Bj"
      }
    },
    {
      "cell_type": "markdown",
      "source": [
        "Answer Here"
      ],
      "metadata": {
        "id": "C_j1G7yiqdRP"
      }
    },
    {
      "cell_type": "markdown",
      "source": [
        "**as** **we can see clearly that the booking percentage of city hotel is around 61.1% which is greater than the resort hotel which is 38.9%**, **it means the accomodation percentage in city hotel is more as compare to resort hotel**."
      ],
      "metadata": {
        "id": "vDfoiyH3SRRp"
      }
    },
    {
      "cell_type": "markdown",
      "source": [
        "##### 3. Will the gained insights help creating a positive business impact? \n",
        "Are there any insights that lead to negative growth? Justify with specific reason."
      ],
      "metadata": {
        "id": "448CDAPjqfQr"
      }
    },
    {
      "cell_type": "markdown",
      "source": [
        "Answer Here"
      ],
      "metadata": {
        "id": "3cspy4FjqxJW"
      }
    },
    {
      "cell_type": "markdown",
      "source": [
        "**after looking the percentage wise data the accomodation of city hotel is more is may be because of the hotel services**,\n",
        "**and resort hotels accomodation percentage is low,so  they need to  compare the services offered by the city hotel to improve thier accomodation to the best possible way to increase their revenue.**"
      ],
      "metadata": {
        "id": "H_u7yuKNUFmv"
      }
    },
    {
      "cell_type": "markdown",
      "source": [
        "#### Chart - 2"
      ],
      "metadata": {
        "id": "KSlN3yHqYklG"
      }
    },
    {
      "cell_type": "code",
      "source": [
        "# Chart - 2 visualization code\n",
        "plt.figure(figsize=(12,8))\n",
        "labels = df['is_repeated_guest'].value_counts().index.tolist()\n",
        "sizes = df['is_repeated_guest'].value_counts().tolist()\n",
        "explode = (0, 0.2)\n",
        "plt.pie(sizes, explode=explode,autopct='%1.2f%%', startangle=90, textprops={'fontsize': 14})\n",
        "plt.title('is_repeated_guest', fontsize=20)\n",
        "plt.legend(labels,loc=1, prop = {'size' :10 })"
      ],
      "metadata": {
        "id": "R4YgtaqtYklH"
      },
      "execution_count": null,
      "outputs": []
    },
    {
      "cell_type": "markdown",
      "source": [
        "##### 1. Why did you pick the specific chart?"
      ],
      "metadata": {
        "id": "t6dVpIINYklI"
      }
    },
    {
      "cell_type": "markdown",
      "source": [
        "Answer Here."
      ],
      "metadata": {
        "id": "5aaW0BYyYklI"
      }
    },
    {
      "cell_type": "markdown",
      "source": [
        "**To** **specify** **the** **overall** **percentage** **of** **repeated** **guests**"
      ],
      "metadata": {
        "id": "3Dq7xivy7KZm"
      }
    },
    {
      "cell_type": "markdown",
      "source": [
        "##### 2. What is/are the insight(s) found from the chart?"
      ],
      "metadata": {
        "id": "ijmpgYnKYklI"
      }
    },
    {
      "cell_type": "markdown",
      "source": [
        "Answer Here"
      ],
      "metadata": {
        "id": "PSx9atu2YklI"
      }
    },
    {
      "cell_type": "markdown",
      "source": [
        "1.**From the above pie chart we can conclude that only 3.91 % guests are repeated and 96.09 % guest are new in our dataset**\n",
        "\n",
        "2.**Hence we can say that customer rentention of the hotel is very less**\n",
        "\n"
      ],
      "metadata": {
        "id": "4_sS374v7Sz2"
      }
    },
    {
      "cell_type": "markdown",
      "source": [
        "##### 3. Will the gained insights help creating a positive business impact? \n",
        "Are there any insights that lead to negative growth? Justify with specific reason."
      ],
      "metadata": {
        "id": "-JiQyfWJYklI"
      }
    },
    {
      "cell_type": "markdown",
      "source": [
        "Answer Here"
      ],
      "metadata": {
        "id": "BcBbebzrYklV"
      }
    },
    {
      "cell_type": "markdown",
      "source": [
        "**The overall retention ratio of hotels are very less to inprove this percentage, there are some perks need to be  provided to the repeated guests so they can do the mouth publicity as well which will be very helpfull to the hotel only to increase their revenue**"
      ],
      "metadata": {
        "id": "ztlfKLc97prj"
      }
    },
    {
      "cell_type": "markdown",
      "source": [
        "#### Chart - 3"
      ],
      "metadata": {
        "id": "EM7whBJCYoAo"
      }
    },
    {
      "cell_type": "code",
      "source": [
        "# Chart - 3 visualization code\n",
        "# percentage distribution of distribution channel use to book hotel by the customers\n",
        "plt.figure(figsize=(12,8))\n",
        "labels = df['distribution_channel'].value_counts().index.tolist()\n",
        "sizes = df['distribution_channel'].value_counts().tolist()\n",
        "explode = (0.1, 0.1,0.1,0.1,0.1)\n",
        "plt.pie(sizes, explode=explode,autopct='%1.2f%%', startangle=90, textprops={'fontsize': 8})\n",
        "plt.title('Distribution Channel Percentage', fontsize=20)\n",
        "plt.legend(labels,loc=1, prop = {'size' :7 })"
      ],
      "metadata": {
        "id": "t6GMdE67YoAp"
      },
      "execution_count": null,
      "outputs": []
    },
    {
      "cell_type": "markdown",
      "source": [
        "##### 1. Why did you pick the specific chart?"
      ],
      "metadata": {
        "id": "fge-S5ZAYoAp"
      }
    },
    {
      "cell_type": "markdown",
      "source": [
        "Answer Here."
      ],
      "metadata": {
        "id": "5dBItgRVYoAp"
      }
    },
    {
      "cell_type": "markdown",
      "source": [
        "**To show the Distribution channel percentage**"
      ],
      "metadata": {
        "id": "F-a-DiQNFt25"
      }
    },
    {
      "cell_type": "markdown",
      "source": [
        "##### 2. What is/are the insight(s) found from the chart?"
      ],
      "metadata": {
        "id": "85gYPyotYoAp"
      }
    },
    {
      "cell_type": "markdown",
      "source": [
        "Answer Here"
      ],
      "metadata": {
        "id": "4jstXR6OYoAp"
      }
    },
    {
      "cell_type": "markdown",
      "source": [
        "**As we can see that TA/TO distribution channel is majorly use for booking after that Direct channel is used for booking mostly and GDS channel is least used distribution channel for hotel booking.**"
      ],
      "metadata": {
        "id": "rh4Fmfq9IMhw"
      }
    },
    {
      "cell_type": "markdown",
      "source": [
        "Answer Here"
      ],
      "metadata": {
        "id": "zfJ8IqMcYoAp"
      }
    },
    {
      "cell_type": "markdown",
      "source": [
        "#### Chart - 4"
      ],
      "metadata": {
        "id": "4Of9eVA-YrdM"
      }
    },
    {
      "cell_type": "code",
      "source": [
        "# Chart - 4 visualization code\n",
        "#percentage distribution of market segment use to book hotel\n",
        "plt.figure(figsize=(12,8))\n",
        "labels = df['market_segment'].value_counts().index.tolist()\n",
        "sizes = df['market_segment'].value_counts().tolist()\n",
        "explode = (0.1, 0.1,0.1,0.1,0.1,0.1,0.1,0.1)\n",
        "plt.pie(sizes, explode=explode,autopct='%1.2f%%', startangle=90, textprops={'fontsize': 14})\n",
        "plt.title('Market Segment Distribution %', fontsize=20)\n",
        "plt.legend(labels,loc=1, prop = {'size' :10 })"
      ],
      "metadata": {
        "id": "irlUoxc8YrdO"
      },
      "execution_count": null,
      "outputs": []
    },
    {
      "cell_type": "markdown",
      "source": [
        "##### 1. Why did you pick the specific chart?"
      ],
      "metadata": {
        "id": "iky9q4vBYrdO"
      }
    },
    {
      "cell_type": "markdown",
      "source": [
        "Answer Here."
      ],
      "metadata": {
        "id": "aJRCwT6DYrdO"
      }
    },
    {
      "cell_type": "markdown",
      "source": [
        "**To show the Market Distribution through Market segment**"
      ],
      "metadata": {
        "id": "z5SJxA3g9ZlU"
      }
    },
    {
      "cell_type": "markdown",
      "source": [
        "##### 2. What is/are the insight(s) found from the chart?"
      ],
      "metadata": {
        "id": "F6T5p64dYrdO"
      }
    },
    {
      "cell_type": "markdown",
      "source": [
        "1.**59.06% booking which is highest through online TA**\n",
        "\n",
        "2.**After that Offline TA/TO and Direct segment is mostly use to book hotel**.\n",
        "\n",
        "3.**complementary and aviation chanel is least use to book hotel.**"
      ],
      "metadata": {
        "id": "I83Uj6EE9ikw"
      }
    },
    {
      "cell_type": "markdown",
      "source": [
        "Answer Here"
      ],
      "metadata": {
        "id": "Xx8WAJvtYrdO"
      }
    },
    {
      "cell_type": "markdown",
      "source": [
        "#### Chart - 5"
      ],
      "metadata": {
        "id": "bamQiAODYuh1"
      }
    },
    {
      "cell_type": "code",
      "source": [
        "# Chart - 5 visualization code\n",
        "#barplot of customer and their origin countries\n",
        "country = dict(df['country'].value_counts())\n",
        "plt.figure(figsize=(15,5))\n",
        "plt.bar((list(country.keys()))[:20],(list(country.values()))[:20] ,width=0.8, color=sns.color_palette('cubehelix'))\n",
        "plt.title('Customer and their countries',fontsize = 20)\n",
        "plt.xlabel('Countries' ,fontsize = 14)\n",
        "plt.ylabel('Number of Customers', fontsize = 14)\n"
      ],
      "metadata": {
        "id": "TIJwrbroYuh3"
      },
      "execution_count": null,
      "outputs": []
    },
    {
      "cell_type": "markdown",
      "source": [
        "##### 1. Why did you pick the specific chart?"
      ],
      "metadata": {
        "id": "QHF8YVU7Yuh3"
      }
    },
    {
      "cell_type": "markdown",
      "source": [
        "Answer Here."
      ],
      "metadata": {
        "id": "dcxuIMRPYuh3"
      }
    },
    {
      "cell_type": "markdown",
      "source": [
        "**To show the barplot of customer and their origin countries**"
      ],
      "metadata": {
        "id": "A-2fR3gEXEY1"
      }
    },
    {
      "cell_type": "markdown",
      "source": [
        "##### 2. What is/are the insight(s) found from the chart?"
      ],
      "metadata": {
        "id": "GwzvFGzlYuh3"
      }
    },
    {
      "cell_type": "markdown",
      "source": [
        "Answer Here"
      ],
      "metadata": {
        "id": "uyqkiB8YYuh3"
      }
    },
    {
      "cell_type": "markdown",
      "source": [
        "**From the above graph we can figure it out that the highest percentage of people are from the country 'PRT'**"
      ],
      "metadata": {
        "id": "0Fb2MA_RXPt-"
      }
    },
    {
      "cell_type": "markdown",
      "source": [
        "Answer Here"
      ],
      "metadata": {
        "id": "_WtzZ_hCYuh4"
      }
    },
    {
      "cell_type": "markdown",
      "source": [
        "#### Chart - 6"
      ],
      "metadata": {
        "id": "OH-pJp9IphqM"
      }
    },
    {
      "cell_type": "code",
      "source": [
        "# Chart - 6 visualization code\n",
        "#coutplot for room type\n",
        "plt.figure(figsize=(15,5))\n",
        "sns.countplot(x = 'reserved_room_type',\n",
        "              data = df,hue='hotel',palette=\"cubehelix\",order = df['reserved_room_type'].value_counts().index).set_title('reserved room type per hotel',y=1,fontsize=20)\n",
        "plt.show()"
      ],
      "metadata": {
        "id": "kuRf4wtuphqN"
      },
      "execution_count": null,
      "outputs": []
    },
    {
      "cell_type": "markdown",
      "source": [
        "##### 1. Why did you pick the specific chart?"
      ],
      "metadata": {
        "id": "bbFf2-_FphqN"
      }
    },
    {
      "cell_type": "markdown",
      "source": [
        "Answer Here."
      ],
      "metadata": {
        "id": "loh7H2nzphqN"
      }
    },
    {
      "cell_type": "markdown",
      "source": [
        "**To show the specific room type reserved most of the time**"
      ],
      "metadata": {
        "id": "b6EtVdaIYBUs"
      }
    },
    {
      "cell_type": "markdown",
      "source": [
        "##### 2. What is/are the insight(s) found from the chart?"
      ],
      "metadata": {
        "id": "_ouA3fa0phqN"
      }
    },
    {
      "cell_type": "markdown",
      "source": [
        "**Room type \"A\" is most preferable from the customers for both the hotels city type and resort type as well and then \"D\", \"E\" and so on** "
      ],
      "metadata": {
        "id": "ElrRSiftYNJ4"
      }
    },
    {
      "cell_type": "markdown",
      "source": [
        "Answer Here"
      ],
      "metadata": {
        "id": "VECbqPI7phqN"
      }
    },
    {
      "cell_type": "markdown",
      "source": [
        "#### Chart - 7"
      ],
      "metadata": {
        "id": "PIIx-8_IphqN"
      }
    },
    {
      "cell_type": "code",
      "source": [
        "# Chart - 7 visualization code\n",
        "# barplot to show the lead time between both the hotels\n",
        "plt.figure(figsize=(10,8))\n",
        "sns.barplot(x = 'hotel',\n",
        "              data = df,y='lead_time')\n",
        "plt.title('lead time per hotel type',fontsize = 20)\n",
        "plt.show()\n",
        "     "
      ],
      "metadata": {
        "id": "lqAIGUfyphqO"
      },
      "execution_count": null,
      "outputs": []
    },
    {
      "cell_type": "markdown",
      "source": [
        "##### 1. Why did you pick the specific chart?"
      ],
      "metadata": {
        "id": "t27r6nlMphqO"
      }
    },
    {
      "cell_type": "markdown",
      "source": [
        "Answer Here."
      ],
      "metadata": {
        "id": "iv6ro40sphqO"
      }
    },
    {
      "cell_type": "markdown",
      "source": [
        "**barplot to show the lead time between both the hotels**"
      ],
      "metadata": {
        "id": "XsLya-7vasZw"
      }
    },
    {
      "cell_type": "markdown",
      "source": [
        "##### 2. What is/are the insight(s) found from the chart?"
      ],
      "metadata": {
        "id": "r2jJGEOYphqO"
      }
    },
    {
      "cell_type": "markdown",
      "source": [
        "Answer Here"
      ],
      "metadata": {
        "id": "Po6ZPi4hphqO"
      }
    },
    {
      "cell_type": "markdown",
      "source": [
        "**Lead time is bit higher in resort hotel then city hotel which means people like to stay in resort hotel for longer time then city hotel**"
      ],
      "metadata": {
        "id": "prmUKR5fav3O"
      }
    },
    {
      "cell_type": "markdown",
      "source": [
        "#### Chart - 8"
      ],
      "metadata": {
        "id": "BZR9WyysphqO"
      }
    },
    {
      "cell_type": "code",
      "source": [
        "# Chart - 8 visualization code\n",
        "#lineplot for each month with respect to adr\n",
        "plt.figure(figsize=(15,7))\n",
        "sns.pointplot(x='arrival_date_month', y='adr', data=df, hue='hotel')\n",
        "plt.title('adr for each month')"
      ],
      "metadata": {
        "id": "TdPTWpAVphqO"
      },
      "execution_count": null,
      "outputs": []
    },
    {
      "cell_type": "markdown",
      "source": [],
      "metadata": {
        "id": "Pa_tjKdKbIxx"
      }
    },
    {
      "cell_type": "markdown",
      "source": [
        "##### 1. Why did you pick the specific chart?"
      ],
      "metadata": {
        "id": "jj7wYXLtphqO"
      }
    },
    {
      "cell_type": "markdown",
      "source": [
        "**To show lineplot for each month with respect to adr**"
      ],
      "metadata": {
        "id": "WZY0iwc2cgH7"
      }
    },
    {
      "cell_type": "markdown",
      "source": [
        "Answer Here."
      ],
      "metadata": {
        "id": "Ob8u6rCTphqO"
      }
    },
    {
      "cell_type": "markdown",
      "source": [
        "##### 2. What is/are the insight(s) found from the chart?"
      ],
      "metadata": {
        "id": "eZrbJ2SmphqO"
      }
    },
    {
      "cell_type": "markdown",
      "source": [
        "Answer Here"
      ],
      "metadata": {
        "id": "mZtgC_hjphqO"
      }
    },
    {
      "cell_type": "markdown",
      "source": [
        "**Average daily rate (ADR), one of the three key hotel performance indicators (along with occupancy and RevPAR), is the measure of the average paid for rooms sold in a given time period.**\n",
        "\n",
        "\n",
        "\n",
        "1.   **For resort hotel the ADR is bit higher in the month july and august**\n",
        "2.   **while the ADR percentage for the city hotel is moderate during the whole period not much drastic changes as same as resort hotel**\n",
        "\n"
      ],
      "metadata": {
        "id": "mDEmdyaIcnpX"
      }
    },
    {
      "cell_type": "markdown",
      "source": [
        "##### 3. Will the gained insights help creating a positive business impact? \n",
        "Are there any insights that lead to negative growth? Justify with specific reason."
      ],
      "metadata": {
        "id": "rFu4xreNphqO"
      }
    },
    {
      "cell_type": "markdown",
      "source": [
        "Answer Here"
      ],
      "metadata": {
        "id": "ey_0qi68phqO"
      }
    },
    {
      "cell_type": "markdown",
      "source": [
        "#### Chart - 9"
      ],
      "metadata": {
        "id": "YJ55k-q6phqO"
      }
    },
    {
      "cell_type": "code",
      "source": [
        "# Chart - 9 visualization code\n",
        "plt.figure(figsize=(12,6))\n",
        "sns.scatterplot(y =\"adr\" , x = \"Stay_in_night\", data = df[df['adr']<1000], hue = 'hotel')\n",
        "plt.show()"
      ],
      "metadata": {
        "id": "B2aS4O1ophqO"
      },
      "execution_count": null,
      "outputs": []
    },
    {
      "cell_type": "markdown",
      "source": [
        "##### 1. Why did you pick the specific chart?"
      ],
      "metadata": {
        "id": "gCFgpxoyphqP"
      }
    },
    {
      "cell_type": "markdown",
      "source": [
        "**To show the effect of longer stay on adr**"
      ],
      "metadata": {
        "id": "PZJOLjSmj07L"
      }
    },
    {
      "cell_type": "markdown",
      "source": [
        "##### 2. What is/are the insight(s) found from the chart?"
      ],
      "metadata": {
        "id": "OVtJsKN_phqQ"
      }
    },
    {
      "cell_type": "markdown",
      "source": [
        "Answer Here"
      ],
      "metadata": {
        "id": "ngGi97qjphqQ"
      }
    },
    {
      "cell_type": "markdown",
      "source": [
        "**From the above scatter plot we can conclude that longer the stay less the adr percentage for both the hotels**"
      ],
      "metadata": {
        "id": "V8FidTrEkzg2"
      }
    },
    {
      "cell_type": "markdown",
      "source": [
        "#### Chart - 10"
      ],
      "metadata": {
        "id": "U2RJ9gkRphqQ"
      }
    },
    {
      "cell_type": "code",
      "source": [
        "# Chart - 10 visualization code\n",
        "plt.figure(figsize = (8,5))\n",
        "hotel_wise_revenue = df.groupby('hotel')['revenue'].sum()\n",
        "hotel_wise_revenue\n",
        "ax = hotel_wise_revenue.plot(kind = 'bar', color = ('b','g'))\n",
        "plt.title(\"Hotel Revenue\")\n",
        "plt.xlabel('Hotel')\n",
        "plt.ylabel('Revenue')"
      ],
      "metadata": {
        "id": "GM7a4YP4phqQ"
      },
      "execution_count": null,
      "outputs": []
    },
    {
      "cell_type": "markdown",
      "source": [
        "##### 1. Why did you pick the specific chart?"
      ],
      "metadata": {
        "id": "1M8mcRywphqQ"
      }
    },
    {
      "cell_type": "markdown",
      "source": [
        "Answer Here."
      ],
      "metadata": {
        "id": "8agQvks0phqQ"
      }
    },
    {
      "cell_type": "markdown",
      "source": [
        "**Bar plot showing the revenue of both the hotels**"
      ],
      "metadata": {
        "id": "miQwXD-Vhs_0"
      }
    },
    {
      "cell_type": "markdown",
      "source": [
        "##### 2. What is/are the insight(s) found from the chart?"
      ],
      "metadata": {
        "id": "tgIPom80phqQ"
      }
    },
    {
      "cell_type": "markdown",
      "source": [
        "**The revenue of city hotel is more as compare to resort hotel because of no. of customers are less in resort hotel so the effect of revenue is directly proportional to customers stay at hotel**"
      ],
      "metadata": {
        "id": "RiOkAyiLh24s"
      }
    },
    {
      "cell_type": "markdown",
      "source": [
        "Answer Here"
      ],
      "metadata": {
        "id": "Qp13pnNzphqQ"
      }
    },
    {
      "cell_type": "markdown",
      "source": [
        "#### Chart - 11"
      ],
      "metadata": {
        "id": "x-EpHcCOp1ci"
      }
    },
    {
      "cell_type": "code",
      "source": [
        "# Chart - 11 visualization code\n",
        "#Countplot of Total number of booking Cancelled month wise \n",
        "plt.figure(figsize = (15, 5))\n",
        "sns.countplot(x=df['arrival_date_month'], hue=df['hotel'], order=['January', 'February', 'March', 'April', 'May', 'June', 'July',\n",
        "          'August', 'September', 'October', 'November', 'December'],palette='Paired').set_title ('Total Monthly Booking Cancelled',fontsize=15)\n",
        "plt.xlabel('Months',fontsize=14)\n",
        "plt.ylabel('Total Number of Booking Cancelled',fontsize=14)\n",
        "plt.legend(prop={'size':14})"
      ],
      "metadata": {
        "id": "mAQTIvtqp1cj"
      },
      "execution_count": null,
      "outputs": []
    },
    {
      "cell_type": "markdown",
      "source": [
        "##### 1. Why did you pick the specific chart?"
      ],
      "metadata": {
        "id": "X_VqEhTip1ck"
      }
    },
    {
      "cell_type": "markdown",
      "source": [
        "Answer Here."
      ],
      "metadata": {
        "id": "-vsMzt_np1ck"
      }
    },
    {
      "cell_type": "markdown",
      "source": [
        "**To Show Total number of booking Cancelled month wise**"
      ],
      "metadata": {
        "id": "EpZ3afUVNSk0"
      }
    },
    {
      "cell_type": "markdown",
      "source": [
        "##### 2. What is/are the insight(s) found from the chart?"
      ],
      "metadata": {
        "id": "8zGJKyg5p1ck"
      }
    },
    {
      "cell_type": "markdown",
      "source": [
        "Answer Here"
      ],
      "metadata": {
        "id": "ZYdMsrqVp1ck"
      }
    },
    {
      "cell_type": "markdown",
      "source": [
        "1.   **Its clearly seen from the above graphical representation that from the month April to august there is highest percentage of booking cancellation**\n",
        "\n",
        "2.   **Same condition applies of both the hotel types which are city hotel and resort hotel as well**\n",
        "\n"
      ],
      "metadata": {
        "id": "U0fGW9mpNckZ"
      }
    },
    {
      "cell_type": "markdown",
      "source": [
        "##### 3. Will the gained insights help creating a positive business impact? \n",
        "Are there any insights that lead to negative growth? Justify with specific reason."
      ],
      "metadata": {
        "id": "PVzmfK_Ep1ck"
      }
    },
    {
      "cell_type": "markdown",
      "source": [
        "Answer Here"
      ],
      "metadata": {
        "id": "druuKYZpp1ck"
      }
    },
    {
      "cell_type": "markdown",
      "source": [
        "If booking are getting cancelled during this months it means there must have some specific reason which is not predictable from here but their may be few reasons like the weather conditions or at that time its summer so their are some chances of multiple options due to vacations "
      ],
      "metadata": {
        "id": "SG2cLz4BOS2Y"
      }
    },
    {
      "cell_type": "markdown",
      "source": [
        "#### Chart - 12"
      ],
      "metadata": {
        "id": "n3dbpmDWp1ck"
      }
    },
    {
      "cell_type": "code",
      "source": [
        "# Chart - 12 visualization code\n",
        "#counplot for number of booking per month\n",
        "plt.figure(figsize = (15, 5))\n",
        "sns.countplot(x=df['arrival_date_month'], hue=df['hotel'], order=['January', 'February', 'March', 'April', 'May', 'June', 'July',\n",
        "          'August', 'September', 'October', 'November', 'December'],palette='magma').set_title ('Monthly Bookings',fontsize=20)\n",
        "plt.xlabel('Months', fontsize=14)\n",
        "plt.ylabel('Number of Bookings', fontsize=14)\n",
        "plt.legend(prop={'size':15})"
      ],
      "metadata": {
        "id": "bwevp1tKp1ck"
      },
      "execution_count": null,
      "outputs": []
    },
    {
      "cell_type": "markdown",
      "source": [
        "##### 1. Why did you pick the specific chart?"
      ],
      "metadata": {
        "id": "ylSl6qgtp1ck"
      }
    },
    {
      "cell_type": "markdown",
      "source": [
        "Answer Here."
      ],
      "metadata": {
        "id": "m2xqNkiQp1ck"
      }
    },
    {
      "cell_type": "markdown",
      "source": [
        "**counplot for number of booking per month**"
      ],
      "metadata": {
        "id": "By1DO32cPQxd"
      }
    },
    {
      "cell_type": "markdown",
      "source": [
        "##### 2. What is/are the insight(s) found from the chart?"
      ],
      "metadata": {
        "id": "ZWILFDl5p1ck"
      }
    },
    {
      "cell_type": "markdown",
      "source": [
        "Answer Here"
      ],
      "metadata": {
        "id": "x-lUsV2mp1ck"
      }
    },
    {
      "cell_type": "markdown",
      "source": [
        "**From the above graph we can see that the booking per month is higest from the month april to august**\n",
        "\n",
        "**But if we are going to compare the percentage wise booking percentage and cancellation percentage is at peak from april to august**\n",
        "\n",
        "**and both the percentage of booking and cancellation is low during the period of september to january**"
      ],
      "metadata": {
        "id": "ne_-l04jQgWj"
      }
    },
    {
      "cell_type": "markdown",
      "source": [
        "##### 3. Will the gained insights help creating a positive business impact? \n",
        "Are there any insights that lead to negative growth? Justify with specific reason."
      ],
      "metadata": {
        "id": "M7G43BXep1ck"
      }
    },
    {
      "cell_type": "markdown",
      "source": [
        "Answer Here"
      ],
      "metadata": {
        "id": "5wwDJXsLp1cl"
      }
    },
    {
      "cell_type": "markdown",
      "source": [
        "**Altough the cancellation and booking percentage is at the peak during the specific period which means its the highest Adr percentage period in which the revenue generation is highest so hoteliers should focus on the rest of the period during which the business is low to increase the market value of their hotels**"
      ],
      "metadata": {
        "id": "-kqj8ebBRLow"
      }
    },
    {
      "cell_type": "markdown",
      "source": [
        "#### Chart - 13"
      ],
      "metadata": {
        "id": "Ag9LCva-p1cl"
      }
    },
    {
      "cell_type": "code",
      "source": [
        "# Chart - 13 visualization code"
      ],
      "metadata": {
        "id": "EUfxeq9-p1cl"
      },
      "execution_count": null,
      "outputs": []
    },
    {
      "cell_type": "code",
      "source": [
        "# groupby of hotel on the basis of average adr\n",
        "\n",
        "Group_by_hotel = df.groupby('hotel')['adr'].mean().reset_index()\n",
        "\n",
        "\n",
        "# highest_adr = Group_by_hotel['adr'].mean().reset_index()\n",
        "plt.figure(figsize = (8,8))\n",
        "\n",
        "plt.xlabel('Hotel Type', fontsize = 12)\n",
        "plt.ylabel('ADR', fontsize = 12)\n",
        "plt.title('Average ADR of each hotel', fontsize = 12)\n",
        "\n",
        "sns.barplot(x=Group_by_hotel['hotel'], y = Group_by_hotel['adr'] )"
      ],
      "metadata": {
        "id": "KLcWKl_BnoA9"
      },
      "execution_count": null,
      "outputs": []
    },
    {
      "cell_type": "markdown",
      "source": [
        "##### 1. Why did you pick the specific chart?"
      ],
      "metadata": {
        "id": "E6MkPsBcp1cl"
      }
    },
    {
      "cell_type": "markdown",
      "source": [
        "Answer Here."
      ],
      "metadata": {
        "id": "V22bRsFWp1cl"
      }
    },
    {
      "cell_type": "markdown",
      "source": [
        "**Bar Chart represents the categorical value which i wanted to show in above figure on the basis of ADR percentage which one is greater**"
      ],
      "metadata": {
        "id": "oW-PWXqe3To_"
      }
    },
    {
      "cell_type": "markdown",
      "source": [
        "##### 2. What is/are the insight(s) found from the chart?"
      ],
      "metadata": {
        "id": "2cELzS2fp1cl"
      }
    },
    {
      "cell_type": "markdown",
      "source": [
        "Answer Here"
      ],
      "metadata": {
        "id": "ozQPc2_Ip1cl"
      }
    },
    {
      "cell_type": "markdown",
      "source": [
        "\n",
        "\n",
        "1.   **We can clearly see from the above graph that the ADR of city hotel is more as compare to resort hotel means the revenue generation of the hotel is good comperatively**\n",
        "2.   **while from the comparision resort hotel needs to work on to increase their adr percentage through different marketing activities or by giving more services** \n"
      ],
      "metadata": {
        "id": "VumkkgWF3qkk"
      }
    },
    {
      "cell_type": "markdown",
      "source": [
        "Answer Here"
      ],
      "metadata": {
        "id": "GL8l1tdLp1cl"
      }
    },
    {
      "cell_type": "markdown",
      "source": [
        "#### Chart - 14 - Correlation Heatmap"
      ],
      "metadata": {
        "id": "NC_X3p0fY2L0"
      }
    },
    {
      "cell_type": "code",
      "source": [
        "# Correlation Heatmap visualization code\n",
        "corr_df = df[['lead_time','previous_cancellations','previous_bookings_not_canceled','Total_guests','booking_changes','required_car_parking_spaces','adr','total_of_special_requests',\n",
        "              'Stay_in_night']].corr()\n",
        "plt.figure(figsize = (12,8))\n",
        "sns.heatmap(corr_df,\n",
        "            cmap = 'OrRd',\n",
        "            annot = True)"
      ],
      "metadata": {
        "id": "xyC9zolEZNRQ"
      },
      "execution_count": null,
      "outputs": []
    },
    {
      "cell_type": "markdown",
      "source": [
        "##### 1. Why did you pick the specific chart?"
      ],
      "metadata": {
        "id": "UV0SzAkaZNRQ"
      }
    },
    {
      "cell_type": "markdown",
      "source": [
        "Answer Here."
      ],
      "metadata": {
        "id": "DVPuT8LYZNRQ"
      }
    },
    {
      "cell_type": "markdown",
      "source": [
        "**To understand the correlation between different values of the columns**"
      ],
      "metadata": {
        "id": "-YLwbTjJhSTe"
      }
    },
    {
      "cell_type": "markdown",
      "source": [
        "##### 2. What is/are the insight(s) found from the chart?"
      ],
      "metadata": {
        "id": "YPEH6qLeZNRQ"
      }
    },
    {
      "cell_type": "markdown",
      "source": [
        "**The highest positive correlation is 39% which is in between \"adr\" and \"total_guests**.\n",
        "\n",
        "**and the negative lowest correlation is between total_guests and booking charges  which is -0.83%**"
      ],
      "metadata": {
        "id": "Cvcha1W4ijz2"
      }
    },
    {
      "cell_type": "markdown",
      "source": [
        "Answer Here"
      ],
      "metadata": {
        "id": "bfSqtnDqZNRR"
      }
    },
    {
      "cell_type": "markdown",
      "source": [
        "## **5. Solution to Business Objective**"
      ],
      "metadata": {
        "id": "JcMwzZxoAimU"
      }
    },
    {
      "cell_type": "markdown",
      "source": [
        "#### What do you suggest the client to achieve Business Objective ? \n",
        "Explain Briefly."
      ],
      "metadata": {
        "id": "8G2x9gOozGDZ"
      }
    },
    {
      "cell_type": "markdown",
      "source": [
        "Answer Here."
      ],
      "metadata": {
        "id": "pASKb0qOza21"
      }
    },
    {
      "cell_type": "markdown",
      "source": [
        "I Figured it out that the repeated percentage of guests are very less... we should focus on this aspects as  well because it will lead to positive mouth publicity which is good in terms of revenue.\n",
        "\n",
        "I realised that the high rate of cancellations can be high due to no deposit policies.\n",
        "\n",
        "-We should also target months between May to Aug. Those are peak months due to the summer period. -Majority of the guests are from Western Europe. We should spend a significant amount of our budget on those area. -Given that we do not have repeated guests, we should target our advertisement on guests to increase returning guests."
      ],
      "metadata": {
        "id": "QREnyqiEz8rm"
      }
    },
    {
      "cell_type": "markdown",
      "source": [
        "# **Conclusion**"
      ],
      "metadata": {
        "id": "gCX9965dhzqZ"
      }
    },
    {
      "cell_type": "markdown",
      "source": [
        "Write the conclusion here."
      ],
      "metadata": {
        "id": "Fjb1IsQkh3yE"
      }
    },
    {
      "cell_type": "markdown",
      "source": [
        "1:- City hotel seems to be more preferred among customers and it also generates more revenue and profit.\n",
        "\n",
        "2:- Room type \"A\" is most prefered from both the hotels.\n",
        "\n",
        "3:-Most bookings were made from July to August. And the least bookings were made at the start and end of the year.\n",
        "\n",
        "4:-More than 60% of the population booked the City hotel.\n",
        "\n",
        "5:-Most number of bookings were made from Portugal and Great Britian.\n",
        "\n",
        "6:-Around One-Forth of the total bookings gets cancelled. More cancelllation are from city Hotel.\n",
        "\n",
        "7:- Corporates have the most percentage of repeated guests.\n",
        "\n"
      ],
      "metadata": {
        "id": "8IfmTnKFqXO4"
      }
    },
    {
      "cell_type": "markdown",
      "source": [
        "### ***Hurrah! You have successfully completed your EDA Capstone Project !!!***"
      ],
      "metadata": {
        "id": "gIfDvo9L0UH2"
      }
    }
  ]
}